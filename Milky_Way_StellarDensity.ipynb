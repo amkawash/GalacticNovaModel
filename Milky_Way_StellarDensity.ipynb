{
 "cells": [
  {
   "cell_type": "code",
   "execution_count": 1,
   "metadata": {},
   "outputs": [],
   "source": [
    "import numpy as np\n",
    "import matplotlib.pyplot as plt\n",
    "#from astropy.coordinates import Angle\n",
    "#from astropy import units as u\n",
    "from mpmath import sech\n",
    "from astropy.io import ascii\n",
    "from matplotlib import gridspec"
   ]
  },
  {
   "cell_type": "markdown",
   "metadata": {},
   "source": [
    "![thin](thin.png)"
   ]
  },
  {
   "cell_type": "code",
   "execution_count": 2,
   "metadata": {},
   "outputs": [],
   "source": [
    "#from Table 3 of https://www.aanda.org/articles/aa/pdf/2003/38/aa3188.pdf\n",
    "#if age > 0.15 Gyr\n",
    "#thin disk function\n",
    "def get_disc(R,z,mod):\n",
    "    eta = 0.0791\n",
    "    a = np.sqrt(R**2 + z**2/eta**2)\n",
    "    \n",
    "    h_Rplus,h_Rminus = get_model_params(mod,'disk')\n",
    "    \n",
    "    rho_0 = 1.4576074659851288# #Msol pc**-3  0.04/get_disc(8.2,0.015,model)\n",
    "    \n",
    "    \n",
    "    rho_d  = (rho_0)*(np.exp(-1*(0.5**2 + a**2/h_Rplus**2)**(1/2)) -\n",
    "                          np.exp(-1*(0.5**2 + a**2/h_Rminus**2)**(1/2)))\n",
    "    \n",
    "    return rho_d"
   ]
  },
  {
   "cell_type": "markdown",
   "metadata": {},
   "source": [
    "![thin](thick.png)"
   ]
  },
  {
   "cell_type": "code",
   "execution_count": 3,
   "metadata": {},
   "outputs": [],
   "source": [
    "#from equation 2 https://arxiv.org/pdf/1406.5384.pdf\n",
    "#makes the thick disk\n",
    "def get_thick_disc03(R,z):\n",
    "    squiggle = 0.400\n",
    "    h_z = 0.9 #kpc\n",
    "    h_R = 2.5 #kpc\n",
    "    rho_0thick = 0.04*0.04976620719495193 #M_sol pc^-3\n",
    "    \n",
    "    if(np.abs(z)<squiggle):\n",
    "        rho_thick03 = rho_0thick*np.exp(-1*(R-R_sol)/h_R)*(1-(z**2/h_z)/(squiggle*(2.+squiggle/h_z)))\n",
    "    else:\n",
    "        rho_thick03 = rho_0thick*np.exp(-1*(R-R_sol)/h_R)*np.exp(-1*np.abs(z-z_sol)/h_z)*np.exp(squiggle/h_z)/(1+squiggle/2*h_z)\n",
    "    return rho_thick03    \n",
    "    "
   ]
  },
  {
   "cell_type": "markdown",
   "metadata": {},
   "source": [
    "![thin](bulge_params.png)"
   ]
  },
  {
   "cell_type": "markdown",
   "metadata": {},
   "source": [
    "![thin](bulge.png)"
   ]
  },
  {
   "cell_type": "code",
   "execution_count": 4,
   "metadata": {},
   "outputs": [],
   "source": [
    "#from https://arxiv.org/pdf/1111.5744.pdf\n",
    "#This function makes the bulge given the chose bulge model\n",
    "def get_bulge(x,y,z,model):\n",
    "\n",
    "    \n",
    "    #get paramters for model\n",
    "    x0,y0,z0,rho_0_norm,Rc,c_par,c_perp,func,n,alpha = get_model_params(model,'bulge')\n",
    "    #rotate reference fram based on bulge angle\n",
    "    alpha = np.deg2rad(alpha)\n",
    "    x_place =x*np.cos(alpha) - y*np.sin(alpha)\n",
    "    y_place = x*np.sin(alpha) + y*np.cos(alpha)\n",
    "    \n",
    "    x = x_place\n",
    "    y = y_place\n",
    "    \n",
    "    r = np.sqrt(x**2 + y**2)\n",
    "    \n",
    "    Rs = ((((np.abs(x/x0))**c_perp + (np.abs(y/y0))**c_perp)**(c_par/c_perp))+(np.abs(z/z0))**c_par)**(n/c_par)\n",
    "    \n",
    "    rho_0_norm +=rho_0_norm*0.5\n",
    "    \n",
    "    #calculate density based on desired function\n",
    "    if(func=='sech'):\n",
    "        rho = rho_0_norm*(sech(-Rs))**2\n",
    "    elif(func=='exp'):\n",
    "        rho = rho_0_norm*np.exp(-Rs)\n",
    "    elif(func=='gaus'):\n",
    "        rho = rho_0_norm*np.exp(-Rs)**2\n",
    "        \n",
    "    #multiply by cutoff function\n",
    "    if(r>Rc):\n",
    "        rho *= np.exp(-1*((r-Rc)/0.5)**2)\n",
    "    \n",
    "    return rho"
   ]
  },
  {
   "cell_type": "code",
   "execution_count": 5,
   "metadata": {},
   "outputs": [],
   "source": [
    "#Function makes the halo\n",
    "def get_halo(x,y,z):\n",
    "    norm_halo = 5.305854627428312e-05#M_sol pc^-3\n",
    "    r_sphere = np.sqrt(x**2 + y**2)\n",
    "    eta = 0.76 #from robin\n",
    "    a_sphere = np.sqrt(r_sphere**2 + z**2/eta**2)\n",
    "    \n",
    "    ac = 0.5\n",
    "    power = -2.44\n",
    "    if(a_sphere<ac):\n",
    "        rho_halo = norm_halo*(ac/8.2)**power\n",
    "    else:\n",
    "        rho_halo = norm_halo*(a_sphere/8.2)**power\n",
    "    \n",
    "    return rho_halo\n",
    "    "
   ]
  },
  {
   "cell_type": "code",
   "execution_count": 6,
   "metadata": {},
   "outputs": [],
   "source": [
    "#function has the various paramters for the different bulge models\n",
    "def get_model_params(model,comp):\n",
    "    #sech\n",
    "    #mass = 2.21e10 Msol\n",
    "    if(model=='VVV_S'):\n",
    "        x0 = 1.65\n",
    "        y0 = 0.71\n",
    "        z0 = 0.50\n",
    "        norm = 2.3655384121869436 #norm got from total mass\n",
    "        Rc = 6.96\n",
    "        c_par = 2.89\n",
    "        c_perp = 1.49\n",
    "        n = 1\n",
    "        Rd = 2.5 # from review\n",
    "        Rh = 1.33\n",
    "        alpha = -21.10 #deg\n",
    "        func = 'sech'\n",
    "    #mass = 1.2e9 Msol\n",
    "    elif(model=='VVV_E'):\n",
    "        x0 = 1.52\n",
    "        y0 = 0.24\n",
    "        z0 = 0.27\n",
    "        norm = 1.171449293193059 #norm got from total mass\n",
    "        Rc = 6.96\n",
    "        c_par = 3.64\n",
    "        c_perp = 3.54\n",
    "        n = 2.87\n",
    "        Rd = 2.6 # from review 2.53 from robin 03\n",
    "        Rh = 1.32\n",
    "        alpha = -2.11\n",
    "        func = 'exp'\n",
    "    elif(model=='VVV_S0'):\n",
    "        x0 = 1.47\n",
    "        y0 = 0.63\n",
    "        z0 = 0.47\n",
    "        norm = 35.45 #norm got from total mass\n",
    "        Rc = 2.54\n",
    "        c_par = 3.04\n",
    "        c_perp = 1.88\n",
    "        n = 1\n",
    "        Rd = 2.6\n",
    "        Rh = 1.33\n",
    "        alpha = -19.57 #deg\n",
    "        func = 'sech'\n",
    "    \n",
    "    if(comp=='bulge'):\n",
    "        return x0,y0,z0,norm,Rc,c_par,c_perp,func,n,alpha\n",
    "    elif(comp=='disk'):\n",
    "        return Rd,Rh"
   ]
  },
  {
   "cell_type": "code",
   "execution_count": 7,
   "metadata": {},
   "outputs": [],
   "source": [
    "#This cell is where you set the resolution and gridsize\n",
    "res = 0.5#resolution in kpc of model, 0.5 = fast,coarse; 0.1 = slow, fine\n",
    "#bounds of grid in kpc\n",
    "x_min = -15\n",
    "y_min = -15\n",
    "z_min = -15\n",
    "\n",
    "x_max = 15\n",
    "y_max = 15\n",
    "z_max = 15\n",
    "\n",
    "\n",
    "x_grid = np.arange(x_min,x_max,res)\n",
    "y_grid = np.arange(y_min,y_max,res)\n",
    "z_grid = np.arange(z_min,z_max,res)\n",
    "\n",
    "R_sol = 8.2#kpc #Solar radii\n",
    "z_sol = 0.015 #solar height from midplane\n",
    "\n",
    "#This is the array that stores the density\n",
    "rho_n = np.zeros((len(x_grid),len(y_grid),len(z_grid)))\n",
    "\n",
    "#which two components for the bulge do you want to use\n",
    "model = 'VVV_S' #sech model\n",
    "model2 = 'VVV_E' #exponential model\n",
    "\n"
   ]
  },
  {
   "cell_type": "code",
   "execution_count": 8,
   "metadata": {},
   "outputs": [],
   "source": [
    "#This cell creates the array of the different Galactic componenets\n",
    "rho_b = np.zeros((len(x_grid),len(y_grid),len(z_grid)))\n",
    "rho_b2 = np.zeros((len(x_grid),len(y_grid),len(z_grid)))\n",
    "rho_d = np.zeros((len(x_grid),len(y_grid),len(z_grid)))\n",
    "rho_dt = np.zeros((len(x_grid),len(y_grid),len(z_grid)))\n",
    "rho_h = np.zeros((len(x_grid),len(y_grid),len(z_grid)))\n",
    "\n",
    "#2 component bulge\n",
    "for i in range(len(x_grid)):\n",
    "    for j in range(len(y_grid)):\n",
    "        for k in range(len(z_grid)):\n",
    "            r_ij = np.sqrt(x_grid[i]**2 + y_grid[j]**2)\n",
    "            rho_b[i,j,k] =  get_bulge(x_grid[i],y_grid[j],z_grid[k],model)\n",
    "            rho_b2[i,j,k] = get_bulge(x_grid[i],y_grid[j],z_grid[k],model2)\n",
    "            rho_d[i,j,k] = get_disc(r_ij,z_grid[k],model)\n",
    "            rho_dt[i,j,k] =  get_thick_disc03(r_ij,z_grid[k])\n",
    "            rho_h[i,j,k] =  get_halo(x_grid[i],y_grid[j],z_grid[k])\n",
    "            "
   ]
  },
  {
   "cell_type": "code",
   "execution_count": 9,
   "metadata": {},
   "outputs": [
    {
     "name": "stdout",
     "output_type": "stream",
     "text": [
      "Mass of bulge component 1 =  2.21e+10 Msol\n",
      "Mass of bulge component 2 =  1.20e+09 Msol\n",
      "Mass of thin disk =  3.50e+10 Msol\n",
      "Mass of thick disk =  4.69e+09 Msol\n",
      "Mass of halo =  7.34e+08 Msol\n",
      "Bulge/Disk mass ratio (10x bulge enhancement) = 5.87\n",
      "Bulge/Disk mass ratio (2.5x bulge enhancement) = 1.47\n",
      "Bulge/Disk mass ratio (follows mass) = 0.59\n"
     ]
    }
   ],
   "source": [
    "#combine components\n",
    "rho_n = rho_b + rho_d + rho_dt + rho_b2 + rho_h\n",
    "#get mass of each componenet\n",
    "m_b = np.sum(rho_b*(res*1000)**3)\n",
    "m_b2 = np.sum(rho_b2*(res*1000)**3)\n",
    "m_d = np.sum(rho_d*(res*1000)**3)\n",
    "m_dt = np.sum(rho_dt*(res*1000)**3)\n",
    "m_h = np.sum(rho_h*(res*1000)**3)\n",
    "\n",
    "\n",
    "#print out each mass\n",
    "print('Mass of bulge component 1 = ',\"{:.2e}\".format(m_b), r'Msol')\n",
    "print('Mass of bulge component 2 = ',\"{:.2e}\".format(m_b2), r'Msol')\n",
    "print('Mass of thin disk = ',\"{:.2e}\".format(m_d), r'Msol')\n",
    "print('Mass of thick disk = ',\"{:.2e}\".format(m_dt), r'Msol')\n",
    "print('Mass of halo = ',\"{:.2e}\".format(m_h), r'Msol')\n",
    "print('Bulge/Disk mass ratio (10x bulge enhancement) =',str(np.round((m_b + m_b2)/(0.1*m_d + 0.1*m_dt),2)))\n",
    "print('Bulge/Disk mass ratio (2.5x bulge enhancement) =',str(np.round((m_b + m_b2)/(0.4*m_d + 0.4*m_dt),2)))\n",
    "print('Bulge/Disk mass ratio (follows mass) =',str(np.round((m_b + m_b2)/(m_d + m_dt),2)))"
   ]
  },
  {
   "cell_type": "code",
   "execution_count": null,
   "metadata": {},
   "outputs": [],
   "source": [
    "np.save('/PATH/TO/DIRECTORY/mass.npy',rho_n)"
   ]
  },
  {
   "cell_type": "code",
   "execution_count": 10,
   "metadata": {},
   "outputs": [
    {
     "data": {
      "image/png": "[encoded data removed]",
      "text/plain": [
       "<Figure size 792x792 with 3 Axes>"
      ]
     },
     "metadata": {
      "needs_background": "light"
     },
     "output_type": "display_data"
    }
   ],
   "source": [
    "#plot the stellar density\n",
    "plt.rc('font', family='serif')\n",
    "fig, ax = plt.subplots(figsize=(11,11),nrows=2)\n",
    "plt.rc('font', family='sans-serif')\n",
    "\n",
    "for i in range(2):\n",
    "    ax[i].minorticks_on()\n",
    "    ax[i].tick_params(axis='both', top = 'on', right ='on',which='major', direction='in', length = 10,width=1.1)\n",
    "    ax[i].tick_params(axis='both', top = 'on', right ='on',which='minor', length=5, direction='in',width=1.1)\n",
    "    ax[i].tick_params(axis='both', labelsize=14)\n",
    "\n",
    "ax[0].set_title('Edge on view of stellar density profile',size=18)\n",
    "ax[1].set_title('Top Down view',size=18)\n",
    "\n",
    "#2d density profile\n",
    "ax[0].set_ylabel('z (kpc)',size=18)\n",
    "ax[0].set_xlabel('R (kpc)',size=18)\n",
    "#plot the density by summing over different direcitons to display in z-R plane and a slice in xy plane\n",
    "im = ax[0].imshow(np.log10(np.sum(rho_n,axis=1).T),origin='lower',extent=(x_min,x_max,z_min,z_max),cmap='gist_heat')\n",
    "ax[1].imshow(np.log10(rho_n[:,:,int(len(z_grid)/2)].T),origin='lower',extent=(-15,15,-15,15),cmap='gist_heat')\n",
    "\n",
    "#color bar \n",
    "col = fig.colorbar(im,orientation='vertical',pad=0.08)\n",
    "col.set_label(r'$\\log_{10} \\left (\\rho\\right )$ (M$_\\odot$ pc$^{-3}$)',size=20)\n",
    "\n",
    "fig.tight_layout()\n",
    "ax[0].set_ylim(z_min,z_max)\n",
    "ax[0].set_xlim(x_min,x_max)\n",
    "\n",
    "ax[1].set_ylim(y_min,y_max)\n",
    "ax[1].set_xlim(x_min,x_max)\n",
    "\n",
    "plt.show()"
   ]
  },
  {
   "cell_type": "code",
   "execution_count": null,
   "metadata": {},
   "outputs": [],
   "source": []
  }
 ],
 "metadata": {
  "kernelspec": {
   "display_name": "Python 3 (ipykernel)",
   "language": "python",
   "name": "python3"
  },
  "language_info": {
   "codemirror_mode": {
    "name": "ipython",
    "version": 3
   },
   "file_extension": ".py",
   "mimetype": "text/x-python",
   "name": "python",
   "nbconvert_exporter": "python",
   "pygments_lexer": "ipython3",
   "version": "3.8.8"
  }
 },
 "nbformat": 4,
 "nbformat_minor": 2
}
